{
  "nbformat": 4,
  "nbformat_minor": 0,
  "metadata": {
    "colab": {
      "name": "bostonk.ipynb",
      "provenance": [],
      "mount_file_id": "1NuxSyB5nlqyhROX2vko5t61xKFfKOmre",
      "authorship_tag": "ABX9TyNWxX8h3kxUb8nXFp0raqQT",
      "include_colab_link": true
    },
    "kernelspec": {
      "name": "python3",
      "display_name": "Python 3"
    },
    "language_info": {
      "name": "python"
    }
  },
  "cells": [
    {
      "cell_type": "markdown",
      "metadata": {
        "id": "view-in-github",
        "colab_type": "text"
      },
      "source": [
        "<a href=\"https://colab.research.google.com/github/Gabriel1Vitor/kaggle-boston/blob/main/bostonk.ipynb\" target=\"_parent\"><img src=\"https://colab.research.google.com/assets/colab-badge.svg\" alt=\"Open In Colab\"/></a>"
      ]
    },
    {
      "cell_type": "code",
      "metadata": {
        "id": "dgx9eF2qA8c4"
      },
      "source": [
        "import pandas as pd\n",
        "import numpy as np\n",
        "from xgboost import XGBClassifier\n",
        "from sklearn.metrics import mean_absolute_error\n",
        "import seaborn as sn #sempre usar (data = dataframe)\n",
        "import pylab as pl\n",
        "import shap \n",
        "from sklearn.tree import DecisionTreeClassifier,plot_tree\n",
        "import matplotlib.pyplot \n",
        "#train e teste pre processado anteriormente\n",
        "train=pd.read_csv(\"/content/drive/MyDrive/bostontr.csv\")\n",
        "test=pd.read_csv(\"/content/drive/MyDrive/bostonts.csv\")\n",
        "sample=pd.read_csv(\"/content/drive/MyDrive/sample_submission.csv\")\n",
        "tabela=[\"MSSubClass\",\"LotArea\",\"OverallQual\",\"OverallCond\",\"YearBuilt\",\"YearRemodAdd\",\"BsmtFinSF1\",\"LotFrontage\",\"MasVnrArea\",\n",
        "       \"BsmtFinSF2\",\"BsmtUnfSF\",\"TotalBsmtSF\",\"1stFlrSF\",\"2ndFlrSF\",\"LowQualFinSF\",\"GrLivArea\",\"BsmtFullBath\",\"BsmtHalfBath\",\n",
        "       \"FullBath\",\"HalfBath\",\"BedroomAbvGr\",\"KitchenAbvGr\",\"TotRmsAbvGrd\",\"Fireplaces\",\"GarageCars\",\"GarageArea\",\"GarageYrBlt\",\n",
        "       \"WoodDeckSF\",\"OpenPorchSF\",\"EnclosedPorch\",\"3SsnPorch\",\"ScreenPorch\",\"PoolArea\",\"MiscVal\",\"MoSold\",\"YrSold\",\"eletrical1\",\n",
        "        \"regiao\",\"ali\",\"naosei\",\"landc\",\"util\",\"lotconf\",\"landsl\",\"neighb\",\"cond1\",\"cond2\",\"blt\",\"houst\",\"roofs\",\"roofm\",\n",
        "        \"exter1\",\"exter2\",\"masvnt\",\"exterq\",\"exterc\",\"found\",\"bsmtq\",\"bsmtc\",\"bsmte\",\"bsmtf1\",\"bsmtf2\",\"heat\",\"heatqc\",\n",
        "        \"centralair\",\"kitchq\",\"funct\",\"firequ\",\"garaget\",\"garagef\",\"garagequ\",\"paved\",\"pool\",\"fence\",\"miscf\",\"salet\",\"salec\"]\n",
        "xtr=train[tabela]\n",
        "ytr=train[\"SalePrice\"]\n",
        "xts=test[tabela]\n",
        "yts=sample[\"SalePrice\"]\n",
        "\n",
        "dtc=DecisionTreeClassifier(random_state=10,min_samples_leaf=100)\n",
        "r=dtc.fit(xtr,ytr)\n",
        "pre=dtc.predict(xts)\n",
        "predtc=mean_absolute_error(yts,pre)\n",
        "\n",
        "xgc=XGBClassifier()\n",
        "t=xgc.fit(xtr,ytr)\n",
        "pre1=xgc.predict(xts)\n",
        "prexgc=mean_absolute_error(yts,pre1)"
      ],
      "execution_count": null,
      "outputs": []
    },
    {
      "cell_type": "code",
      "source": [
        "predtc"
      ],
      "metadata": {
        "id": "Hbb7uLUdxqdZ",
        "colab": {
          "base_uri": "https://localhost:8080/"
        },
        "outputId": "e8ad284c-ccca-49ee-c15f-0249e3851f40"
      },
      "execution_count": null,
      "outputs": [
        {
          "output_type": "execute_result",
          "data": {
            "text/plain": [
              "47694.67935000482"
            ]
          },
          "metadata": {},
          "execution_count": 5
        }
      ]
    },
    {
      "cell_type": "code",
      "source": [
        "prexgc"
      ],
      "metadata": {
        "colab": {
          "base_uri": "https://localhost:8080/"
        },
        "id": "THAAThmPHOan",
        "outputId": "adf5cf3c-8ecd-4839-cd79-94241a074ba2"
      },
      "execution_count": null,
      "outputs": [
        {
          "output_type": "execute_result",
          "data": {
            "text/plain": [
              "45646.1214383012"
            ]
          },
          "metadata": {},
          "execution_count": 6
        }
      ]
    },
    {
      "cell_type": "markdown",
      "source": [
        "com o codigo do xgboost assim  ja fica no meio da competiçao, House Prices - Advanced Regression Techniques "
      ],
      "metadata": {
        "id": "LRdbjk4GItq0"
      }
    },
    {
      "cell_type": "code",
      "metadata": {
        "colab": {
          "base_uri": "https://localhost:8080/"
        },
        "id": "RFy4LDjcJ7_1",
        "outputId": "bced4275-6fff-4993-84b1-28676ae6530e"
      },
      "source": [
        "my_submission=pd.DataFrame()\n",
        "my_submission[\"SalePrice\"]=pre\n",
        "my_submission[\"Id\"]=test[\"Id\"]\n",
        "filename = \"submission.csv\"\n",
        "my_submission .to_csv(filename,index=False)\n",
        "print(\"Saved file: \" + filename)"
      ],
      "execution_count": null,
      "outputs": [
        {
          "output_type": "stream",
          "name": "stdout",
          "text": [
            "Saved file: submission.csv\n"
          ]
        }
      ]
    },
    {
      "cell_type": "code",
      "source": [
        "#se tem que instalar toda vez(colab esta com bug)\n",
        "% pip install shap"
      ],
      "metadata": {
        "id": "QCZLKvuJjKSW",
        "colab": {
          "base_uri": "https://localhost:8080/"
        },
        "outputId": "0b1e4d91-784d-457d-a2ba-e6ea2f8869eb"
      },
      "execution_count": null,
      "outputs": [
        {
          "output_type": "stream",
          "name": "stdout",
          "text": [
            "Collecting shap\n",
            "  Downloading shap-0.40.0-cp37-cp37m-manylinux2010_x86_64.whl (564 kB)\n",
            "\u001b[?25l\r\u001b[K     |▋                               | 10 kB 16.2 MB/s eta 0:00:01\r\u001b[K     |█▏                              | 20 kB 19.7 MB/s eta 0:00:01\r\u001b[K     |█▊                              | 30 kB 21.8 MB/s eta 0:00:01\r\u001b[K     |██▎                             | 40 kB 23.5 MB/s eta 0:00:01\r\u001b[K     |███                             | 51 kB 24.8 MB/s eta 0:00:01\r\u001b[K     |███▌                            | 61 kB 26.0 MB/s eta 0:00:01\r\u001b[K     |████                            | 71 kB 26.4 MB/s eta 0:00:01\r\u001b[K     |████▋                           | 81 kB 27.5 MB/s eta 0:00:01\r\u001b[K     |█████▏                          | 92 kB 26.9 MB/s eta 0:00:01\r\u001b[K     |█████▉                          | 102 kB 10.9 MB/s eta 0:00:01\r\u001b[K     |██████▍                         | 112 kB 10.9 MB/s eta 0:00:01\r\u001b[K     |███████                         | 122 kB 10.9 MB/s eta 0:00:01\r\u001b[K     |███████▌                        | 133 kB 10.9 MB/s eta 0:00:01\r\u001b[K     |████████▏                       | 143 kB 10.9 MB/s eta 0:00:01\r\u001b[K     |████████▊                       | 153 kB 10.9 MB/s eta 0:00:01\r\u001b[K     |█████████▎                      | 163 kB 10.9 MB/s eta 0:00:01\r\u001b[K     |█████████▉                      | 174 kB 10.9 MB/s eta 0:00:01\r\u001b[K     |██████████▍                     | 184 kB 10.9 MB/s eta 0:00:01\r\u001b[K     |███████████                     | 194 kB 10.9 MB/s eta 0:00:01\r\u001b[K     |███████████▋                    | 204 kB 10.9 MB/s eta 0:00:01\r\u001b[K     |████████████▏                   | 215 kB 10.9 MB/s eta 0:00:01\r\u001b[K     |████████████▊                   | 225 kB 10.9 MB/s eta 0:00:01\r\u001b[K     |█████████████▍                  | 235 kB 10.9 MB/s eta 0:00:01\r\u001b[K     |██████████████                  | 245 kB 10.9 MB/s eta 0:00:01\r\u001b[K     |██████████████▌                 | 256 kB 10.9 MB/s eta 0:00:01\r\u001b[K     |███████████████                 | 266 kB 10.9 MB/s eta 0:00:01\r\u001b[K     |███████████████▋                | 276 kB 10.9 MB/s eta 0:00:01\r\u001b[K     |████████████████▎               | 286 kB 10.9 MB/s eta 0:00:01\r\u001b[K     |████████████████▉               | 296 kB 10.9 MB/s eta 0:00:01\r\u001b[K     |█████████████████▍              | 307 kB 10.9 MB/s eta 0:00:01\r\u001b[K     |██████████████████              | 317 kB 10.9 MB/s eta 0:00:01\r\u001b[K     |██████████████████▋             | 327 kB 10.9 MB/s eta 0:00:01\r\u001b[K     |███████████████████▏            | 337 kB 10.9 MB/s eta 0:00:01\r\u001b[K     |███████████████████▊            | 348 kB 10.9 MB/s eta 0:00:01\r\u001b[K     |████████████████████▎           | 358 kB 10.9 MB/s eta 0:00:01\r\u001b[K     |████████████████████▉           | 368 kB 10.9 MB/s eta 0:00:01\r\u001b[K     |█████████████████████▌          | 378 kB 10.9 MB/s eta 0:00:01\r\u001b[K     |██████████████████████          | 389 kB 10.9 MB/s eta 0:00:01\r\u001b[K     |██████████████████████▋         | 399 kB 10.9 MB/s eta 0:00:01\r\u001b[K     |███████████████████████▏        | 409 kB 10.9 MB/s eta 0:00:01\r\u001b[K     |███████████████████████▉        | 419 kB 10.9 MB/s eta 0:00:01\r\u001b[K     |████████████████████████▍       | 430 kB 10.9 MB/s eta 0:00:01\r\u001b[K     |█████████████████████████       | 440 kB 10.9 MB/s eta 0:00:01\r\u001b[K     |█████████████████████████▌      | 450 kB 10.9 MB/s eta 0:00:01\r\u001b[K     |██████████████████████████      | 460 kB 10.9 MB/s eta 0:00:01\r\u001b[K     |██████████████████████████▊     | 471 kB 10.9 MB/s eta 0:00:01\r\u001b[K     |███████████████████████████▎    | 481 kB 10.9 MB/s eta 0:00:01\r\u001b[K     |███████████████████████████▉    | 491 kB 10.9 MB/s eta 0:00:01\r\u001b[K     |████████████████████████████▍   | 501 kB 10.9 MB/s eta 0:00:01\r\u001b[K     |█████████████████████████████   | 512 kB 10.9 MB/s eta 0:00:01\r\u001b[K     |█████████████████████████████▋  | 522 kB 10.9 MB/s eta 0:00:01\r\u001b[K     |██████████████████████████████▏ | 532 kB 10.9 MB/s eta 0:00:01\r\u001b[K     |██████████████████████████████▊ | 542 kB 10.9 MB/s eta 0:00:01\r\u001b[K     |███████████████████████████████▎| 552 kB 10.9 MB/s eta 0:00:01\r\u001b[K     |████████████████████████████████| 563 kB 10.9 MB/s eta 0:00:01\r\u001b[K     |████████████████████████████████| 564 kB 10.9 MB/s \n",
            "\u001b[?25hRequirement already satisfied: scipy in /usr/local/lib/python3.7/dist-packages (from shap) (1.4.1)\n",
            "Requirement already satisfied: tqdm>4.25.0 in /usr/local/lib/python3.7/dist-packages (from shap) (4.62.3)\n",
            "Requirement already satisfied: numba in /usr/local/lib/python3.7/dist-packages (from shap) (0.51.2)\n",
            "Requirement already satisfied: pandas in /usr/local/lib/python3.7/dist-packages (from shap) (1.3.5)\n",
            "Requirement already satisfied: scikit-learn in /usr/local/lib/python3.7/dist-packages (from shap) (1.0.2)\n",
            "Requirement already satisfied: cloudpickle in /usr/local/lib/python3.7/dist-packages (from shap) (1.3.0)\n",
            "Requirement already satisfied: numpy in /usr/local/lib/python3.7/dist-packages (from shap) (1.19.5)\n",
            "Collecting slicer==0.0.7\n",
            "  Downloading slicer-0.0.7-py3-none-any.whl (14 kB)\n",
            "Requirement already satisfied: packaging>20.9 in /usr/local/lib/python3.7/dist-packages (from shap) (21.3)\n",
            "Requirement already satisfied: pyparsing!=3.0.5,>=2.0.2 in /usr/local/lib/python3.7/dist-packages (from packaging>20.9->shap) (3.0.7)\n",
            "Requirement already satisfied: llvmlite<0.35,>=0.34.0.dev0 in /usr/local/lib/python3.7/dist-packages (from numba->shap) (0.34.0)\n",
            "Requirement already satisfied: setuptools in /usr/local/lib/python3.7/dist-packages (from numba->shap) (57.4.0)\n",
            "Requirement already satisfied: python-dateutil>=2.7.3 in /usr/local/lib/python3.7/dist-packages (from pandas->shap) (2.8.2)\n",
            "Requirement already satisfied: pytz>=2017.3 in /usr/local/lib/python3.7/dist-packages (from pandas->shap) (2018.9)\n",
            "Requirement already satisfied: six>=1.5 in /usr/local/lib/python3.7/dist-packages (from python-dateutil>=2.7.3->pandas->shap) (1.15.0)\n",
            "Requirement already satisfied: joblib>=0.11 in /usr/local/lib/python3.7/dist-packages (from scikit-learn->shap) (1.1.0)\n",
            "Requirement already satisfied: threadpoolctl>=2.0.0 in /usr/local/lib/python3.7/dist-packages (from scikit-learn->shap) (3.0.0)\n",
            "Installing collected packages: slicer, shap\n",
            "Successfully installed shap-0.40.0 slicer-0.0.7\n"
          ]
        }
      ]
    }
  ]
}